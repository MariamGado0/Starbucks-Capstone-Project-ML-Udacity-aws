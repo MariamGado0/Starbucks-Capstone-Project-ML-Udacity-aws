{
 "cells": [
  {
   "cell_type": "markdown",
   "metadata": {},
   "source": [
    "#  AWS Machine Learning Engineer Nanodegree Scholarship – Udacity \n",
    "# Optimizing Starbucks rewards using Machine Learning \n",
    "## [Capstone Project]"
   ]
  },
  {
   "cell_type": "markdown",
   "metadata": {},
   "source": [
    "## Data Preprocessing for Visualization Only\n",
    "Data provided by Starbucks is preprocessed for visualization and converted into one table:\n",
    "\n",
    "| id | gender | age | income | difficulty | reward | web | mobile | social | bogo | disc | info | amount_spend |\n",
    "|----|--------|-----|--------|------------|--------|-----|--------|--------|------|------|------|--------------|\n",
    "\n",
    "**This is necessary for:**\n",
    "* convinient data exploration\n",
    "* visualization.\n",
    "\n",
    "**Fields:**\n",
    "* **id, gender, age, and income** are copied from ``profile.json``\n",
    "* **difficulty, reward, web, mobile, social** are from ``portfolio.json``\n",
    "* Finaly, **bogo, disc, info** and **amount_spend** are calculated from ``transcript.json``.\n",
    "\n",
    "**Values in bogo, disc, info are calculated by matching customer's responses to each offer, particularly:**\n",
    "+ The offer was not given to a customer.  \n",
    "+ A customer received the offer but never viewed it.  \n",
    "+ The offer was viewed.  \n",
    "+ The offer was viewed and completed (in the case of informational offers, it means that the offer was viewed and a transaction was made by the customer within the “influence” period specified by Starbucks).\n"
   ]
  },
  {
   "cell_type": "code",
   "execution_count": 1,
   "metadata": {},
   "outputs": [],
   "source": [
    "import os\n",
    "import time\n",
    "import pandas as pd"
   ]
  },
  {
   "cell_type": "markdown",
   "metadata": {},
   "source": [
    "**Function :** ```def parse_offers(offers, transactions, offer_name)``` \n",
    "\n",
    "* Extracts the responses to offers given by each customer.\n",
    "* param offers: dict. All offers of a single type (bogo, or disc, or info).\n",
    "* param transactions: DataFrame. Transaction made by a customer.\n",
    "* param offer_name: str. Name of the offer type (bogo, or disc, or info).\n",
    "* return: list of responses given by a customer to offers."
   ]
  },
  {
   "cell_type": "code",
   "execution_count": 2,
   "metadata": {},
   "outputs": [],
   "source": [
    "def parse_offers(offers, transactions, offer_name):\n",
    "    \n",
    "    data = []\n",
    "\n",
    "    for _id, info in offers.items():\n",
    "        # get all the transactions associated with the offer (by id)\n",
    "        history = transactions[(transactions['value'] == {'offer id': _id}) |\n",
    "                               (transactions['value'] == {'offer_id': _id, 'reward': info['reward']})]\n",
    "        if not history.empty:  # if the offer was received\n",
    "            receive_time = history[history['event'] == 'offer received']['time'].values\n",
    "            viewed = history[history['event'] == 'offer viewed']\n",
    "            completed = history[history['event'] == 'offer completed']\n",
    "            trx_time = transactions[transactions['event'] == 'transaction']['time'].values\n",
    "\n",
    "            response = 1\n",
    "            # check whether the offer was viewed and completed within the influence period specified by Starbucks\n",
    "            for rt in receive_time:\n",
    "                view_time = viewed[(viewed['time'] >= rt) &\n",
    "                                   (viewed['time'] <= rt + info['duration'] * 24)]['time'].to_list()\n",
    "                if view_time:\n",
    "                    # if viewed and responded during the influence period\n",
    "                    if not completed[(completed['time'] >= view_time[0]) &\n",
    "                                     (completed['time'] <= rt + info['duration'] * 24)].empty or \\\n",
    "                            (offer_name == 'info' and any(\n",
    "                                view_time[0] <= tt <= rt + info['duration'] * 24 for tt in trx_time)):\n",
    "                        response = 3\n",
    "                        break   # only the best response is recorded\n",
    "                    # if only viewed during the influence period\n",
    "                    else:\n",
    "                        response = 2\n",
    "\n",
    "            data.append({\n",
    "                'response': response,\n",
    "                'difficulty': info['difficulty'],\n",
    "                'reward': info['reward'],\n",
    "                'channels': info['channels']\n",
    "            })\n",
    "\n",
    "    return data"
   ]
  },
  {
   "cell_type": "markdown",
   "metadata": {},
   "source": [
    "**Function:** ```def transform(profile, transcript, offers)```\n",
    "* Transforms given by Starbucks input files into one big table suitable for further data analysis.\n",
    "* Particularly, the new table looks as follows:\n",
    "  ```\n",
    "    | id | gender | age | income | difficulty | reward | web | mobile | social | bogo | disc | info | amount_spend |\n",
    "    |----|--------|-----|--------|------------|--------|-----|--------|--------|------|------|------|--------------|\n",
    "     ```\n",
    "\n",
    "* param profile: DataFrame. profile.json converted to Pandas DataFrame\n",
    "* param transcript: DataFrame. transcript.json converted to Pandas DataFrame\n",
    "* param offers: dict. Contains information about each offer type\n",
    "* return: list of dictionaries, each of which corresponds to a row in the final table.\n",
    "\n"
   ]
  },
  {
   "cell_type": "code",
   "execution_count": 3,
   "metadata": {},
   "outputs": [],
   "source": [
    "def transform(profile, transcript, offers):\n",
    "   \n",
    "    data = []\n",
    "\n",
    "    # iterate over each person's information and construct the table with responses given by customers\n",
    "    # the table may contain rows with a person several times, each corresponds to a different response to an offer\n",
    "    for index, person in profile.iterrows():\n",
    "        transactions = transcript[transcript['person'] == person['id']]\n",
    "        # sum all the transactions made by a customer\n",
    "        amount_spend = transactions[transactions['event'] == 'transaction']['value'].to_list()\n",
    "        amount_spend = sum([amount['amount'] for amount in amount_spend])\n",
    "\n",
    "        for name, offer in offers.items():\n",
    "            parsed = parse_offers(offer, transactions, name)\n",
    "            for po in parsed:\n",
    "                data.append({\n",
    "                    'id': person['id'],\n",
    "                    'gender': person['gender'],\n",
    "                    'age': person['age'],\n",
    "                    'income': person['income'],\n",
    "                    'difficulty': po['difficulty'],\n",
    "                    'reward': po['reward'],\n",
    "                    'web': 1 if 'web' in po['channels'] else 0,          # email column is not included (base case)\n",
    "                    'mobile': 1 if 'mobile' in po['channels'] else 0,\n",
    "                    'social': 1 if 'social' in po['channels'] else 0,\n",
    "                    'bogo': po['response'] if name == 'bogo' else 0,\n",
    "                    'disc': po['response'] if name == 'disc' else 0,\n",
    "                    'info': po['response'] if name == 'info' else 0,\n",
    "                    'amount_spend': amount_spend\n",
    "                })\n",
    "\n",
    "        if not (index + 1) % 1000:\n",
    "            print(f'Processed {index + 1:d} entries')\n",
    "\n",
    "    return data\n"
   ]
  },
  {
   "cell_type": "markdown",
   "metadata": {},
   "source": [
    "**Function:** ```def preprocess(portfolio, profile, transcript, save_dir='data')```\n",
    "* Preprocesses and cleans the input data, and then transforms several input sets into one.\n",
    "* The output table is saved as pickle file.\n",
    "* This one has (no duplication by id) is for visualization (Data_cleaned_EDA.pkl).\n",
    "* param portfolio: DataFrame. portfolio.json converted to Pandas DataFrame.\n",
    "* param profile: DataFrame. profile.json converted to Pandas DataFrame.\n",
    "* param transcript: DataFrame. transcript.json converted to Pandas DataFrame.\n",
    "* param save_dir: str. Output files saving location.\n"
   ]
  },
  {
   "cell_type": "code",
   "execution_count": 5,
   "metadata": {},
   "outputs": [],
   "source": [
    "def preprocess(portfolio, profile, transcript, save_dir='data'):\n",
    "    \n",
    "    # read offers into dictionaries of the form:\n",
    "    # {'offer id': {'duration': int, 'reward': int, 'difficulty': int, 'channels': list}}\n",
    "    bogo = portfolio[portfolio['offer_type'] ==\n",
    "                     'bogo'][['id', 'duration', 'reward', 'difficulty', 'channels']]. \\\n",
    "                     set_index('id').to_dict(orient='index')\n",
    "    disc = portfolio[portfolio['offer_type'] ==\n",
    "                     'discount'][['id', 'duration', 'reward', 'difficulty', 'channels']]. \\\n",
    "                     set_index('id').to_dict(orient='index')\n",
    "    info = portfolio[portfolio['offer_type'] ==\n",
    "                     'informational'][['id', 'duration', 'reward', 'difficulty', 'channels']]. \\\n",
    "                     set_index('id').to_dict(orient='index')\n",
    "\n",
    "    # Drop rows from the customer table with no information but a customer's id\n",
    "    profile = profile.drop(profile[(profile['gender'].isna()) &\n",
    "                                   (profile['age'] == 118) &\n",
    "                                   (profile['income'].isna())].index).reset_index(drop=True)\n",
    "\n",
    "    # apply data transformation\n",
    "    data = pd.DataFrame(transform(profile, transcript, {'bogo': bogo, 'disc': disc, 'info': info}))\n",
    "\n",
    "\n",
    "    # apply grouping for easier data visualization and save\n",
    "    Data_EDA = data.drop(columns=['difficulty', 'reward'])\n",
    "    Data_EDA = Data_EDA.groupby(['id']).max().reset_index()\n",
    "    Data_EDA.to_pickle('Data_cleaned_EDA.pkl')\n",
    "    #Data_EDA.to_csv('Data_cleaned_EDA.csv')\n",
    "\n",
    "    print('Saving Data_cleaned_EDA.pkl')\n"
   ]
  },
  {
   "cell_type": "code",
   "execution_count": 6,
   "metadata": {},
   "outputs": [
    {
     "name": "stdout",
     "output_type": "stream",
     "text": [
      "Processed 1000 entries\n",
      "Processed 2000 entries\n",
      "Processed 3000 entries\n",
      "Processed 4000 entries\n",
      "Processed 5000 entries\n",
      "Processed 6000 entries\n",
      "Processed 7000 entries\n",
      "Processed 8000 entries\n",
      "Processed 9000 entries\n",
      "Processed 10000 entries\n",
      "Processed 11000 entries\n",
      "Processed 12000 entries\n",
      "Processed 13000 entries\n",
      "Processed 14000 entries\n",
      "Saving Data_cleaned_EDA.pkl\n",
      "Preprocessing time 550.54 s\n"
     ]
    }
   ],
   "source": [
    "import time\n",
    "if __name__ == \"__main__\":\n",
    "    start = time.time()\n",
    "    portfolio = pd.read_json(('portfolio.json'), orient='records', lines=True)\n",
    "    profile = pd.read_json(('profile.json'), orient='records', lines=True)\n",
    "    transcript = pd.read_json(('transcript.json'), orient='records', lines=True)\n",
    "\n",
    "    preprocess(portfolio, profile, transcript)\n",
    "    print(f'Preprocessing time {(time.time() - start):.2f} s')"
   ]
  },
  {
   "cell_type": "code",
   "execution_count": null,
   "metadata": {},
   "outputs": [],
   "source": []
  }
 ],
 "metadata": {
  "instance_type": "ml.t3.medium",
  "kernelspec": {
   "display_name": "Python 3 (Data Science)",
   "language": "python",
   "name": "python3__SAGEMAKER_INTERNAL__arn:aws:sagemaker:us-east-1:081325390199:image/datascience-1.0"
  },
  "language_info": {
   "codemirror_mode": {
    "name": "ipython",
    "version": 3
   },
   "file_extension": ".py",
   "mimetype": "text/x-python",
   "name": "python",
   "nbconvert_exporter": "python",
   "pygments_lexer": "ipython3",
   "version": "3.7.10"
  }
 },
 "nbformat": 4,
 "nbformat_minor": 5
}
